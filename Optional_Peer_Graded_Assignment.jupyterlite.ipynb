{
  "metadata": {
    "kernelspec": {
      "name": "python",
      "display_name": "Python (Pyodide)",
      "language": "python"
    },
    "language_info": {
      "codemirror_mode": {
        "name": "python",
        "version": 3
      },
      "file_extension": ".py",
      "mimetype": "text/x-python",
      "name": "python",
      "nbconvert_exporter": "python",
      "pygments_lexer": "ipython3",
      "version": "3.8"
    }
  },
  "nbformat_minor": 4,
  "nbformat": 4,
  "cells": [
    {
      "cell_type": "markdown",
      "source": "<p style=\"text-align:center\">\n    <a href=\"https://skills.network/?utm_medium=Exinfluencer&utm_source=Exinfluencer&utm_content=000026UJ&utm_term=10006555&utm_id=NA-SkillsNetwork-Channel-SkillsNetworkCoursesIBMDeveloperSkillsNetworkST0151ENSkillsNetwork20531532-2022-01-01\" target=\"_blank\">\n    <img src=\"https://cf-courses-data.s3.us.cloud-object-storage.appdomain.cloud/assets/logos/SN_web_lightmode.png\" width=\"200\" alt=\"Skills Network Logo\"  />\n    </a>\n</p>\n\n",
      "metadata": {}
    },
    {
      "cell_type": "markdown",
      "source": "#### Import the required libraries we need for the lab.\n",
      "metadata": {}
    },
    {
      "cell_type": "code",
      "source": "import piplite\nawait piplite.install(['numpy'],['pandas'])\nawait piplite.install(['seaborn'])",
      "metadata": {
        "trusted": true
      },
      "outputs": [],
      "execution_count": null
    },
    {
      "cell_type": "code",
      "source": "import pandas as pd\nimport pandas as pd\nimport seaborn as sns\nimport matplotlib.pyplot as pyplot\nimport scipy.stats\nimport statsmodels.api as sm\nfrom statsmodels.formula.api import ols",
      "metadata": {
        "trusted": true
      },
      "outputs": [],
      "execution_count": null
    },
    {
      "cell_type": "markdown",
      "source": "#### Read the dataset in the csv file from the URL\n",
      "metadata": {}
    },
    {
      "cell_type": "code",
      "source": "from js import fetch\nimport io\n\nURL = 'https://cf-courses-data.s3.us.cloud-object-storage.appdomain.cloud/IBMDeveloperSkillsNetwork-ST0151EN-SkillsNetwork/labs/boston_housing.csv'\nresp = await fetch(URL)\nboston_url = io.BytesIO((await resp.arrayBuffer()).to_py())",
      "metadata": {
        "trusted": true
      },
      "outputs": [],
      "execution_count": null
    },
    {
      "cell_type": "code",
      "source": "boston_df=pd.read_csv(boston_url)",
      "metadata": {
        "trusted": true
      },
      "outputs": [],
      "execution_count": null
    },
    {
      "cell_type": "markdown",
      "source": "#### Add your code below following the instructions given in the course to complete the peer graded assignment\n",
      "metadata": {}
    },
    {
      "cell_type": "code",
      "source": "plt.figure(figsize=(8, 6))\nsns.boxplot(x=boston_data['MEDV'])\nplt.title('Boxplot of Median Value of Owner-Occupied Homes')\nplt.xlabel('Median Value (in $1000\\'s)')\nplt.show()",
      "metadata": {
        "trusted": true
      },
      "outputs": [],
      "execution_count": null
    },
    {
      "cell_type": "code",
      "source": "###This boxplot provides insights into the distribution of median values of owner-occupied homes, showing the median, quartiles, and potential outliers.",
      "metadata": {
        "trusted": true
      },
      "outputs": [],
      "execution_count": null
    },
    {
      "cell_type": "code",
      "source": "plt.figure(figsize=(8, 6))\nsns.countplot(x=boston_data['CHAS'])\nplt.title('Bar Plot of Houses Bounded by the Charles River')\nplt.xlabel('Charles River (1: Bounded, 0: Not Bounded)')\nplt.ylabel('Count')\nplt.show()",
      "metadata": {
        "trusted": true
      },
      "outputs": [],
      "execution_count": null
    },
    {
      "cell_type": "code",
      "source": "###This bar plot displays the count of houses bounded by the Charles River.",
      "metadata": {
        "trusted": true
      },
      "outputs": [],
      "execution_count": null
    },
    {
      "cell_type": "code",
      "source": "# Discretize AGE variable into three groups\nboston_data['AGE_Group'] = pd.cut(boston_data['AGE'],\n                                  bins=[0, 35, 70, float('inf')],\n                                  labels=['35 years and younger', 'Between 35 and 70 years', '70 years and older'])\n\nplt.figure(figsize=(10, 8))\nsns.boxplot(x='AGE_Group', y='MEDV', data=boston_data)\nplt.title('Boxplot of Median Value vs Age Group')\nplt.xlabel('Age Group')\nplt.ylabel('Median Value (in $1000\\'s)')\nplt.show()\n",
      "metadata": {
        "trusted": true
      },
      "outputs": [],
      "execution_count": null
    },
    {
      "cell_type": "code",
      "source": "###This boxplot compares the median values of homes for different age groups.",
      "metadata": {
        "trusted": true
      },
      "outputs": [],
      "execution_count": null
    },
    {
      "cell_type": "code",
      "source": "plt.figure(figsize=(10, 8))\nsns.scatterplot(x='NOX', y='INDUS', data=boston_data)\nplt.title('Scatter Plot: NOX vs INDUS')\nplt.xlabel('Nitric oxide concentrations (NOX)')\nplt.ylabel('Proportion of Non-Retail Business Acres (INDUS)')\nplt.show()\n",
      "metadata": {
        "trusted": true
      },
      "outputs": [],
      "execution_count": null
    },
    {
      "cell_type": "code",
      "source": "###This scatter plot explores the relationship between nitric oxide concentrations and the proportion of non-retail business acres per town.",
      "metadata": {
        "trusted": true
      },
      "outputs": [],
      "execution_count": null
    },
    {
      "cell_type": "code",
      "source": "plt.figure(figsize=(10, 8))\nsns.histplot(boston_data['PTRATIO'], bins=20, kde=True)\nplt.title('Histogram of Pupil-Teacher Ratio (PTRATIO)')\nplt.xlabel('Pupil-Teacher Ratio')\nplt.ylabel('Frequency')\nplt.show()\n",
      "metadata": {
        "trusted": true
      },
      "outputs": [],
      "execution_count": null
    },
    {
      "cell_type": "code",
      "source": "This histogram shows the distribution of pupil-teacher ratios.",
      "metadata": {
        "trusted": true
      },
      "outputs": [],
      "execution_count": null
    },
    {
      "cell_type": "code",
      "source": "###Question 1: Is there a significant difference in the median value of houses bounded by the Charles river or not? (T-test for independent samples)",
      "metadata": {
        "trusted": true
      },
      "outputs": [],
      "execution_count": null
    },
    {
      "cell_type": "code",
      "source": "# Hypothesis\n# H0: There is no significant difference in median values.\n# H1: There is a significant difference in median values.\n\n# T-test\nresult_ttest = scipy.stats.ttest_ind(boston_data[boston_data['CHAS'] == 1]['MEDV'],\n                                     boston_data[boston_data['CHAS'] == 0]['MEDV'])\n\n# Conclusion\nalpha = 0.05\nif result_ttest.pvalue < alpha:\n    print(\"Reject the null hypothesis. There is a significant difference.\")\nelse:\n    print(\"Fail to reject the null hypothesis. There is no significant difference.\")\n",
      "metadata": {
        "trusted": true
      },
      "outputs": [],
      "execution_count": null
    },
    {
      "cell_type": "code",
      "source": "###Question 2: Is there a difference in Median values of houses (MEDV) for each proportion of owner-occupied units built before 1940 (AGE)? (ANOVA)\npython\n",
      "metadata": {
        "trusted": true
      },
      "outputs": [],
      "execution_count": null
    },
    {
      "cell_type": "code",
      "source": "# Hypothesis\n# H0: There is no significant difference in median values.\n# H1: There is a significant difference in median values.\n\n# ANOVA\nmodel_anova = ols('MEDV ~ AGE_Group', data=boston_data).fit()\nresult_anova = sm.stats.anova_lm(model_anova)\n\n# Conclusion\nif result_anova['PR(>F)'][0] < alpha:\n    print(\"Reject the null hypothesis. There is a significant difference.\")\nelse:\n    print(\"Fail to reject the null hypothesis. There is no significant difference.\")\n",
      "metadata": {
        "trusted": true
      },
      "outputs": [],
      "execution_count": null
    },
    {
      "cell_type": "code",
      "source": "###uestion 3: Can we conclude that there is no relationship between Nitric oxide concentrations and the proportion of non-retail business acres per town? (Pearson Correlation)",
      "metadata": {
        "trusted": true
      },
      "outputs": [],
      "execution_count": null
    },
    {
      "cell_type": "code",
      "source": "# Hypothesis\n# H0: There is no correlation between NOX and INDUS.\n# H1: There is a correlation between NOX and INDUS.\n\n# Pearson Correlation\nresult_correlation = scipy.stats.pearsonr(boston_data['NOX'], boston_data['INDUS'])\n\n# Conclusion\nif result_correlation[1] < alpha:\n    print(\"Reject the null hypothesis. There is a correlation.\")\nelse:\n    print(\"Fail to reject the null hypothesis. There is no correlation.\")\n",
      "metadata": {
        "trusted": true
      },
      "outputs": [],
      "execution_count": null
    },
    {
      "cell_type": "code",
      "source": "###Question 4: What is the impact of an additional weighted distance to the five Boston employment centres on the median value of owner-occupied homes? (Regression analysis)",
      "metadata": {
        "trusted": true
      },
      "outputs": [],
      "execution_count": null
    },
    {
      "cell_type": "code",
      "source": "# Hypothesis\n# H0: The weighted distance has no impact on the median value.\n# H1: The weighted distance has an impact on the median value.\n\n# Regression Analysis\nmodel_regression = ols('MEDV ~ DIS', data=boston_data).fit()\nresult_regression = sm.stats.anova_lm(model_regression)\n\n# Conclusion\nif result_regression['PR(>F)'][0] < alpha:\n    print(\"Reject the null hypothesis. There is an impact.\")\nelse:\n    print(\"Fail to reject the null hypothesis. There is no impact.\")\n",
      "metadata": {
        "trusted": true
      },
      "outputs": [],
      "execution_count": null
    }
  ]
}